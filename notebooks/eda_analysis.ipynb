{
 "cells": [
  {
   "cell_type": "markdown",
   "id": "a3ae3052",
   "metadata": {},
   "source": []
  },
  {
   "cell_type": "code",
   "execution_count": null,
   "id": "d27b8787",
   "metadata": {},
   "outputs": [
    {
     "ename": "SyntaxError",
     "evalue": "trailing comma not allowed without surrounding parentheses (3466416894.py, line 5)",
     "output_type": "error",
     "traceback": [
      "  \u001b[36mCell\u001b[39m\u001b[36m \u001b[39m\u001b[32mIn[9]\u001b[39m\u001b[32m, line 5\u001b[39m\n\u001b[31m    \u001b[39m\u001b[31mfrom src.eda import  headline_length_stats,\u001b[39m\n                                               ^\n\u001b[31mSyntaxError\u001b[39m\u001b[31m:\u001b[39m trailing comma not allowed without surrounding parentheses\n"
     ]
    }
   ],
   "source": [
    "import sys\n",
    "import os\n",
    "sys.path.append(os.path.abspath('..'))\n",
    "import pandas as pd\n",
    "from src.eda import (\n",
    "    headline_length_stats,\n",
    "    articles_per_publisher,\n",
    "    publication_date_trends,\n",
    "    top_keywords,\n",
    "    publication_hour_analysis,\n",
    "    publisher_domain_analysis\n",
    ")\n",
    "\n",
    "df = pd.read_csv('../data/raw_analyst_ratings.csv')\n",
    "\n",
    "headline_length_stats(df)\n",
    "articles_per_publisher(df)\n",
    "publication_date_trends(df)\n",
    "top_keywords(df, num_keywords=15)\n",
    "publication_hour_analysis(df)\n",
    "publisher_domain_analysis(df)\n"
   ]
  }
 ],
 "metadata": {
  "kernelspec": {
   "display_name": "venv",
   "language": "python",
   "name": "python3"
  },
  "language_info": {
   "codemirror_mode": {
    "name": "ipython",
    "version": 3
   },
   "file_extension": ".py",
   "mimetype": "text/x-python",
   "name": "python",
   "nbconvert_exporter": "python",
   "pygments_lexer": "ipython3",
   "version": "3.12.6"
  }
 },
 "nbformat": 4,
 "nbformat_minor": 5
}
