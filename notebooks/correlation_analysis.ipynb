{
 "cells": [
  {
   "cell_type": "markdown",
   "id": "d2ef6552",
   "metadata": {},
   "source": [
    "# Task 3: Correlation Between News Sentiment and Stock Movements\n",
    "\n",
    "---\n",
    "\n",
    "This notebook performs sentiment analysis on news headlines and correlates them with daily stock returns for multiple companies (AAPL, AMZN, GOOG, META, MSFT, NVDA, TSLA)."
   ]
  },
  {
   "cell_type": "code",
   "execution_count": null,
   "id": "6e815aee",
   "metadata": {},
   "outputs": [],
   "source": [
    "import pandas as pd\n",
    "from textblob import TextBlob\n",
    "import matplotlib.pyplot as plt\n",
    "import seaborn as sns\n",
    "from scipy.stats import pearsonr\n",
    "\n",
    "sns.set(style=\"whitegrid\")"
   ]
  },
  {
   "cell_type": "code",
   "execution_count": null,
   "id": "ae53b711",
   "metadata": {},
   "outputs": [],
   "source": [
    "STOCK_FILES = {\n",
    "    \"AAPL\": \"data/yfinance_data/AAPL_historical_data.csv\",\n",
    "    \"AMZN\": \"data/yfinance_data/AMZN_historical_data.csv\",\n",
    "    \"GOOG\": \"data/yfinance_data/GOOG_historical_data.csv\",\n",
    "    \"META\": \"data/yfinance_data/META_historical_data.csv\",\n",
    "    \"MSFT\": \"data/yfinance_data/MSFT_historical_data.csv\",\n",
    "    \"NVDA\": \"data/yfinance_data/NVDA_historical_data.csv\",\n",
    "    \"TSLA\": \"data/yfinance_data/TSLA_historical_data.csv\",\n",
    "}\n",
    "\n",
    "NEWS_PATH = \"data/raw_analyst_ratings.csv\"  # Ensure this file exists with 'headline', 'date', 'stock'\n"
   ]
  },
  {
   "cell_type": "code",
   "execution_count": null,
   "id": "7ec63940",
   "metadata": {},
   "outputs": [],
   "source": [
    "import os\n",
    "\n",
    "def load_and_prepare_news():\n",
    "    if not os.path.exists(NEWS_PATH):\n",
    "        raise FileNotFoundError(f\"File not found: {NEWS_PATH}. Please check the path or provide the correct file.\")\n",
    "    df_news = pd.read_csv(NEWS_PATH)\n",
    "    df_news['date'] = pd.to_datetime(df_news['date']).dt.date\n",
    "    df_news['sentiment'] = df_news['headline'].apply(lambda x: TextBlob(str(x)).sentiment.polarity)\n",
    "    daily_sentiment = df_news.groupby(['date', 'stock'])['sentiment'].mean().reset_index()\n",
    "    return daily_sentiment\n",
    "\n",
    "news_sentiment_df = load_and_prepare_news()\n",
    "news_sentiment_df.head()"
   ]
  },
  {
   "cell_type": "code",
   "execution_count": null,
   "id": "21180ae1",
   "metadata": {},
   "outputs": [],
   "source": [
    "def load_stock_data(file_path):\n",
    "    df = pd.read_csv(file_path, parse_dates=['Date'])\n",
    "    df['Date'] = df['Date'].dt.date\n",
    "    df['daily_return'] = df['Close'].pct_change()\n",
    "    return df[['Date', 'daily_return']].dropna()\n"
   ]
  },
  {
   "cell_type": "code",
   "execution_count": null,
   "id": "19f85119",
   "metadata": {},
   "outputs": [],
   "source": [
    "def analyze_correlation(stock_symbol, news_sentiment_df):\n",
    "    stock_df = load_stock_data(STOCK_FILES[stock_symbol])\n",
    "    sentiment_df = news_sentiment_df[news_sentiment_df['stock'] == stock_symbol]\n",
    "    merged = pd.merge(stock_df, sentiment_df, left_on='Date', right_on='date')\n",
    "\n",
    "    if merged.empty:\n",
    "        print(f\"No overlapping dates for {stock_symbol}\")\n",
    "        return None\n",
    "\n",
    "    corr, _ = pearsonr(merged['daily_return'], merged['sentiment'])\n",
    "    print(f\"{stock_symbol} Correlation: {corr:.3f}\")\n",
    "\n",
    "    # Plot\n",
    "    sns.scatterplot(x='sentiment', y='daily_return', data=merged)\n",
    "    plt.title(f'{stock_symbol} - Sentiment vs. Daily Return')\n",
    "    plt.xlabel('Average Daily Sentiment')\n",
    "    plt.ylabel('Daily Return')\n",
    "    plt.grid(True)\n",
    "    plt.show()\n",
    "\n",
    "    return corr\n"
   ]
  },
  {
   "cell_type": "code",
   "execution_count": null,
   "id": "5acc2d2e",
   "metadata": {},
   "outputs": [],
   "source": [
    "correlations = {}\n",
    "\n",
    "for stock in STOCK_FILES:\n",
    "    corr = analyze_correlation(stock, news_sentiment_df)\n",
    "    if corr is not None:\n",
    "        correlations[stock] = corr\n",
    "\n",
    "correlations"
   ]
  }
 ],
 "metadata": {
  "kernelspec": {
   "display_name": "venv",
   "language": "python",
   "name": "python3"
  },
  "language_info": {
   "codemirror_mode": {
    "name": "ipython",
    "version": 3
   },
   "file_extension": ".py",
   "mimetype": "text/x-python",
   "name": "python",
   "nbconvert_exporter": "python",
   "pygments_lexer": "ipython3",
   "version": "3.12.6"
  }
 },
 "nbformat": 4,
 "nbformat_minor": 5
}
